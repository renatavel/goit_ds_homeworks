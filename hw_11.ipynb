{
  "cells": [
    {
      "cell_type": "markdown",
      "metadata": {
        "id": "view-in-github",
        "colab_type": "text"
      },
      "source": [
        "<a href=\"https://colab.research.google.com/github/renatavel/goit_ds_homeworks/blob/main/hw_11.ipynb\" target=\"_parent\"><img src=\"https://colab.research.google.com/assets/colab-badge.svg\" alt=\"Open In Colab\"/></a>"
      ]
    },
    {
      "cell_type": "markdown",
      "metadata": {
        "id": "b0Yf4NBJUSNM"
      },
      "source": [
        "# Створення нейронної мережі\n",
        "\n",
        "У цьому завданні ми створимо повнозв'язну нейронну мережу, використовуючи при цьому низькорівневі механізми tensorflow.\n",
        "\n",
        "Архітектура нейромережі представлена на наступному малюнку. Як бачиш, у ній є один вхідний шар, два приховані, а також вихідний шар. В якості активаційної функції у прихованих шарах буде використовуватись сигмоїда. На вихідному шарі ми використовуємо softmax.\n",
        "\n",
        "Частина коду зі створення мережі вже написана, тобі потрібно заповнити пропуски у вказаних місцях."
      ]
    },
    {
      "cell_type": "markdown",
      "metadata": {
        "id": "01rZWUu0USNQ"
      },
      "source": [
        "## Архітектура нейронної мережі\n",
        "\n",
        "<img src=\"http://cs231n.github.io/assets/nn1/neural_net2.jpeg\" alt=\"nn\" style=\"width: 400px;\"/>\n"
      ]
    },
    {
      "cell_type": "markdown",
      "metadata": {
        "id": "LLvIZ705Qw_V"
      },
      "source": [
        "## Про датасет MNIST\n",
        "\n",
        "Дану нейромережу ми будемо вивчати на датасеті MNIST. Цей датасет являє собою велику кількість зображень рукописних цифр розміром $28 \\times 28$ пікселів. Кожен піксель приймає значення від 0 до 255.\n",
        "\n",
        "Як і раніше, датасет буде розділений на навчальну та тестову вибірки. При цьому ми виконаємо нормалізацію всіх зображень, щоб значення пікселів знаходилось у проміжку від 0 до 1, розділивши яскравість кожного пікселя на 255.\n",
        "\n",
        "Окрім того, архітектура нейронної мережі очікує на вхід вектор. У нашому ж випадку кожен об'єкт вибірки являє собою матрицю. Що ж робити? У цьому завданні ми \"розтягнемо\" матрицю $28 \\times 28$, отримавши при цьому вектор, що складається з 784 елементів.\n",
        "\n",
        "![MNIST Dataset](https://www.researchgate.net/profile/Steven-Young-5/publication/306056875/figure/fig1/AS:393921575309346@1470929630835/Example-images-from-the-MNIST-dataset.png)\n",
        "\n",
        "Більше інформації про датасет можна знайти [тут](http://yann.lecun.com/exdb/mnist/)."
      ]
    },
    {
      "cell_type": "code",
      "execution_count": 170,
      "metadata": {
        "id": "il_0_5OyUSNR"
      },
      "outputs": [],
      "source": [
        "import tensorflow as tf\n",
        "import numpy as np\n",
        "import pandas as pd\n",
        "import matplotlib.pyplot as plt\n",
        "import random\n",
        "import keras as K\n",
        "import seaborn as sns\n",
        "from sklearn.metrics import confusion_matrix"
      ]
    },
    {
      "cell_type": "code",
      "execution_count": 171,
      "metadata": {
        "id": "cd-1_abTUSNS"
      },
      "outputs": [],
      "source": [
        "num_classes = 10 # загальна кількість класів, у нашому випадку це цифри від 0 до 9\n",
        "num_features = 784 # кількість атрибутів вхідного вектора 28 * 28 = 784\n",
        "\n",
        "learning_rate = 0.001 # швидкість навчання нейронної мережі\n",
        "training_steps = 3000 # максимальне число епох\n",
        "batch_size = 256 # перераховувати ваги мережі ми будемо не на всій вибірці, а на її випадковій підмножині з batch_size елементів\n",
        "display_step = 100 # кожні 100 ітерацій ми будемо показувати поточне значення функції втрат і точності\n",
        "\n",
        "n_hidden_1 = 128 # кількість нейронів 1-го шару\n",
        "n_hidden_2 = 256 # кількість нейронів 2-го шару"
      ]
    },
    {
      "cell_type": "code",
      "execution_count": 172,
      "metadata": {
        "id": "pGTXiRyTUSNT"
      },
      "outputs": [],
      "source": [
        "# from tensorflow.keras.datasets import mnist\n",
        "from keras.datasets import mnist\n",
        "\n",
        "# Завантажуємо датасет\n",
        "(x_train, y_train), (x_test, y_test) = mnist.load_data()\n",
        "\n",
        "# Перетворюємо цілочисельні пікселі на тип float32\n",
        "x_train, x_test = np.array(x_train, np.float32), np.array(x_test, np.float32)\n",
        "\n",
        "# Перетворюємо матриці розміром 28x28 пікселів у вектор з 784 елементів\n",
        "x_train, x_test = x_train.reshape([-1, num_features]), x_test.reshape([-1, num_features])\n",
        "\n",
        "# Нормалізуємо значення пікселів\n",
        "x_train, x_test = x_train / 255., x_test / 255.\n",
        "\n",
        "# Перемішаємо тренувальні дані\n",
        "train_data = tf.data.Dataset.from_tensor_slices((x_train, y_train))\n",
        "train_data = train_data.repeat().shuffle(5000).batch(batch_size).prefetch(1)"
      ]
    },
    {
      "cell_type": "code",
      "execution_count": 173,
      "metadata": {
        "id": "FkRmCQjnUSNV"
      },
      "outputs": [],
      "source": [
        "# Створимо нейронну мережу\n",
        "\n",
        "class DenseLayer(tf.Module):\n",
        "    def __init__(self, in_features, out_features, name=None):\n",
        "        super().__init__(name=name)\n",
        "        self.w = tf.Variable(\n",
        "            tf.random.normal([in_features, out_features]), name=\"w\"\n",
        "        )\n",
        "        self.b = tf.Variable(tf.zeros([out_features]), name=\"b\")\n",
        "\n",
        "    def __call__(self, x, activation=0):\n",
        "        y = tf.matmul(x, self.w) + self.b\n",
        "        if activation != 0:\n",
        "            return tf.nn.softmax(y)\n",
        "        else:\n",
        "            return tf.nn.sigmoid(y)\n",
        "\n",
        "class NN(tf.Module):\n",
        "  def __init__(self, name=None):\n",
        "      super().__init__(name=name)\n",
        "      # Перший шар, який складається з 128 нейронів\n",
        "      self.layer1 = DenseLayer(num_features, n_hidden_1)\n",
        "      # Другий шар, який складається з 256 нейронів\n",
        "      self.layer2 = DenseLayer(n_hidden_1, n_hidden_2)\n",
        "      # Вихідний шар\n",
        "      self.output_layer = DenseLayer(n_hidden_2, num_classes)\n",
        "\n",
        "\n",
        "  def __call__(self, x):\n",
        "      # Передача даних через перші два шари та вихідний шар з функцією активації softmax\n",
        "      x = self.layer1(x, activation=tf.nn.relu)\n",
        "      x = self.layer2(x, activation=tf.nn.relu)\n",
        "      x = self.output_layer(x, activation=tf.nn.softmax)\n",
        "      return x"
      ]
    },
    {
      "cell_type": "code",
      "execution_count": 174,
      "metadata": {
        "id": "LIf3o7VAUSNV"
      },
      "outputs": [],
      "source": [
        "# В якості функції помилки в даному випадку зручно взяти крос-ентропію\n",
        "def cross_entropy(y_pred, y_true):\n",
        "    # Закодувати label в one hot vector\n",
        "    y_true = tf.one_hot(y_true, depth=num_classes)\n",
        "\n",
        "    # Значення передбачення, щоб уникнути помилки log(0).\n",
        "    y_pred = tf.clip_by_value(y_pred, 1e-9, 1.)\n",
        "\n",
        "    # Обчислення крос-ентропії\n",
        "    return tf.reduce_mean(-tf.reduce_sum(y_true * tf.math.log(y_pred)))\n",
        "\n",
        "# Як метрику якості використовуємо точність\n",
        "def accuracy(y_pred, y_true):\n",
        "    y_true = tf.cast(y_true, tf.int64)\n",
        "    pred_classes = tf.argmax(y_pred, axis=1)\n",
        "    correct_predictions = tf.cast(tf.equal(pred_classes, y_true), tf.float32)\n",
        "    return tf.reduce_mean(correct_predictions)"
      ]
    },
    {
      "cell_type": "code",
      "execution_count": 175,
      "metadata": {
        "id": "MQeT1yatUSNW"
      },
      "outputs": [],
      "source": [
        "# Створимо екземпляр нейронної мережі\n",
        "neural_net = NN(name=\"mnist\")\n",
        "\n",
        "# Функція навчання нейромережі\n",
        "def train(neural_net, input_x, output_y):\n",
        "  # Для налаштування вагів мережі будемо використовувати стохастичний градієнтний спуск\n",
        "  optimizer = tf.optimizers.SGD(learning_rate)\n",
        "\n",
        "  # Активація автоматичного диференціювання\n",
        "  with tf.GradientTape() as g:\n",
        "    pred = neural_net(input_x)\n",
        "    loss = cross_entropy(pred, output_y)\n",
        "\n",
        "    # Отримаємо список оптимізованих параметрів\n",
        "    trainable_variables = [var for layer in [neural_net.layer1, neural_net.layer2, neural_net.output_layer] for var in [layer.w, layer.b]]\n",
        "    # Обчислимо за ними значення градієнта\n",
        "    gradients = g.gradient(loss, trainable_variables)\n",
        "\n",
        "    # Модифікуємо параметри\n",
        "    optimizer.apply_gradients(zip(gradients, trainable_variables))\n",
        "    return loss"
      ]
    },
    {
      "cell_type": "code",
      "execution_count": 176,
      "metadata": {
        "id": "fnyns9lBfpQZ",
        "outputId": "bb1df002-7cec-4d1e-a78f-79ccfd60a452",
        "colab": {
          "base_uri": "https://localhost:8080/"
        }
      },
      "outputs": [
        {
          "output_type": "stream",
          "name": "stdout",
          "text": [
            "Step 100: loss = 588.1579, accuracy = 0.1523\n",
            "Step 200: loss = 587.7639, accuracy = 0.1406\n",
            "Step 300: loss = 586.7047, accuracy = 0.1719\n",
            "Step 400: loss = 585.2219, accuracy = 0.1797\n",
            "Step 500: loss = 583.6074, accuracy = 0.1562\n",
            "Step 600: loss = 584.4473, accuracy = 0.1719\n",
            "Step 700: loss = 579.7908, accuracy = 0.2148\n",
            "Step 800: loss = 573.6165, accuracy = 0.2930\n",
            "Step 900: loss = 566.6276, accuracy = 0.2812\n",
            "Step 1000: loss = 564.7755, accuracy = 0.2344\n",
            "Step 1100: loss = 542.8458, accuracy = 0.3008\n",
            "Step 1200: loss = 539.4037, accuracy = 0.3008\n",
            "Step 1300: loss = 528.3588, accuracy = 0.3125\n",
            "Step 1400: loss = 514.7925, accuracy = 0.3203\n",
            "Step 1500: loss = 490.0721, accuracy = 0.3398\n",
            "Step 1600: loss = 496.3582, accuracy = 0.3203\n",
            "Step 1700: loss = 463.7683, accuracy = 0.3516\n",
            "Step 1800: loss = 466.0867, accuracy = 0.3984\n",
            "Step 1900: loss = 444.4899, accuracy = 0.3828\n",
            "Step 2000: loss = 428.0920, accuracy = 0.4375\n",
            "Step 2100: loss = 399.5619, accuracy = 0.4375\n",
            "Step 2200: loss = 406.8509, accuracy = 0.4531\n",
            "Step 2300: loss = 404.5517, accuracy = 0.4414\n",
            "Step 2400: loss = 403.4713, accuracy = 0.4062\n",
            "Step 2500: loss = 388.1884, accuracy = 0.4062\n",
            "Step 2600: loss = 369.1522, accuracy = 0.4609\n",
            "Step 2700: loss = 357.5420, accuracy = 0.4844\n",
            "Step 2800: loss = 352.8944, accuracy = 0.4844\n",
            "Step 2900: loss = 341.7157, accuracy = 0.4570\n",
            "Step 3000: loss = 340.5092, accuracy = 0.5352\n"
          ]
        }
      ],
      "source": [
        "# Тренування мережі\n",
        "\n",
        "loss_history = []  # кожні display_step кроків зберігай в цьому списку поточну помилку нейромережі\n",
        "accuracy_history = [] # кожні display_step кроків зберігай в цьому списку поточну точність нейромережі\n",
        "\n",
        "# У цьому циклі ми будемо проводити навчання нейронної мережі\n",
        "# із тренувального датасета train_data вилучи випадкову підмножину, на якій\n",
        "# відбудеться тренування. Використовуй метод take, доступний для тренувального датасета.\n",
        "for step, (batch_x, batch_y) in enumerate(train_data.take(training_steps), 1):\n",
        "    # Оновлюємо ваги нейронної мережі\n",
        "    batch_x = tf.cast(batch_x, dtype=tf.float32)\n",
        "    batch_y = tf.cast(batch_y, dtype=tf.int64)\n",
        "\n",
        "    loss = train(neural_net, batch_x, batch_y)\n",
        "\n",
        "    if step % display_step == 0:\n",
        "        pred = neural_net(batch_x)\n",
        "        acc = accuracy(pred, batch_y)\n",
        "        loss_history.append(loss.numpy())\n",
        "        accuracy_history.append(acc.numpy())\n",
        "        print(f\"Step {step}: loss = {loss.numpy():.4f}, accuracy = {acc.numpy():.4f}\")\n"
      ]
    },
    {
      "cell_type": "code",
      "execution_count": 177,
      "metadata": {
        "id": "_yCBfG6MbQB2",
        "outputId": "23f11378-6c4b-4473-c924-46a3edacc113",
        "colab": {
          "base_uri": "https://localhost:8080/",
          "height": 265
        }
      },
      "outputs": [
        {
          "output_type": "display_data",
          "data": {
            "text/plain": [
              "<Figure size 1200x400 with 2 Axes>"
            ],
            "image/png": "[encoded data removed]"
          },
          "metadata": {}
        }
      ],
      "source": [
        "# Виведіть графіки залежності зміни точності і втрат від кроку\n",
        "# Якщо все зроблено правильно, то точність повинна зростати, а втрати зменшуватись\n",
        "\n",
        "import matplotlib.pyplot as plt\n",
        "\n",
        "# Виведіть графік функції втрат\n",
        "plt.figure(figsize=(12, 4))\n",
        "plt.subplot(1, 2, 1)\n",
        "plt.plot(loss_history, label='loss')\n",
        "plt.title('Graph of loss function')\n",
        "plt.xlabel('Step')\n",
        "plt.ylabel('Loss function')\n",
        "plt.legend()\n",
        "\n",
        "# Виведіть графік точності\n",
        "plt.subplot(1, 2, 2)\n",
        "plt.plot(accuracy_history, label='accuracy')\n",
        "plt.title('Accuracy graph')\n",
        "plt.xlabel('Step')\n",
        "plt.ylabel('Accuracy')\n",
        "plt.legend()\n",
        "\n",
        "plt.show()"
      ]
    },
    {
      "cell_type": "code",
      "execution_count": 178,
      "metadata": {
        "id": "LE3g4gDyUSNY",
        "outputId": "f1e72acc-e1c3-4043-dad3-74116ff9cc61",
        "colab": {
          "base_uri": "https://localhost:8080/"
        }
      },
      "outputs": [
        {
          "output_type": "stream",
          "name": "stdout",
          "text": [
            "              precision    recall  f1-score   support\n",
            "\n",
            "           0       0.71      0.93      0.80       980\n",
            "           1       0.93      0.93      0.93      1135\n",
            "           2       0.25      0.91      0.39      1032\n",
            "           3       0.24      0.04      0.06      1010\n",
            "           4       0.48      0.87      0.62       982\n",
            "           5       0.45      0.31      0.36       892\n",
            "           6       0.00      0.00      0.00       958\n",
            "           7       0.80      0.79      0.79      1028\n",
            "           8       0.10      0.00      0.01       974\n",
            "           9       0.32      0.07      0.11      1009\n",
            "\n",
            "    accuracy                           0.49     10000\n",
            "   macro avg       0.43      0.48      0.41     10000\n",
            "weighted avg       0.44      0.49      0.42     10000\n",
            "\n"
          ]
        },
        {
          "output_type": "stream",
          "name": "stderr",
          "text": [
            "/usr/local/lib/python3.11/dist-packages/sklearn/metrics/_classification.py:1565: UndefinedMetricWarning: Precision is ill-defined and being set to 0.0 in labels with no predicted samples. Use `zero_division` parameter to control this behavior.\n",
            "  _warn_prf(average, modifier, f\"{metric.capitalize()} is\", len(result))\n",
            "/usr/local/lib/python3.11/dist-packages/sklearn/metrics/_classification.py:1565: UndefinedMetricWarning: Precision is ill-defined and being set to 0.0 in labels with no predicted samples. Use `zero_division` parameter to control this behavior.\n",
            "  _warn_prf(average, modifier, f\"{metric.capitalize()} is\", len(result))\n",
            "/usr/local/lib/python3.11/dist-packages/sklearn/metrics/_classification.py:1565: UndefinedMetricWarning: Precision is ill-defined and being set to 0.0 in labels with no predicted samples. Use `zero_division` parameter to control this behavior.\n",
            "  _warn_prf(average, modifier, f\"{metric.capitalize()} is\", len(result))\n"
          ]
        }
      ],
      "source": [
        "from sklearn.metrics import classification_report\n",
        "\n",
        "def model_accuracy(neural_net, x_test, y_test):\n",
        "    # Get predictions from the neural network\n",
        "    pred = neural_net(x_test)\n",
        "    pred_classes = np.argmax(pred, axis=1)  # Get the predicted class labels\n",
        "\n",
        "    # Generate and print the classification report\n",
        "    report = classification_report(y_test, pred_classes, target_names=[str(i) for i in range(10)])\n",
        "    print(report)\n",
        "\n",
        "# Оцінка моделі на тестових даних\n",
        "model_accuracy(neural_net, x_test, y_test)"
      ]
    },
    {
      "cell_type": "code",
      "execution_count": 179,
      "metadata": {
        "id": "_EEHAubOUSNY",
        "outputId": "347b81b4-e121-481e-b73d-6a8323e5c6aa",
        "colab": {
          "base_uri": "https://localhost:8080/",
          "height": 210
        }
      },
      "outputs": [
        {
          "output_type": "display_data",
          "data": {
            "text/plain": [
              "<Figure size 1000x1000 with 5 Axes>"
            ],
            "image/png": "[encoded data removed]"
          },
          "metadata": {}
        },
        {
          "output_type": "stream",
          "name": "stdout",
          "text": [
            "Errors: 1 out of 5 images.\n",
            "Accuracy score on the selected images: 80.00%\n"
          ]
        }
      ],
      "source": [
        "# Протестуйте навчену нейромережу на 10 зображеннях. З тестової вибірки візьміть 5\n",
        "# випадкових зображень і передайте їх у нейронну мережу.\n",
        "# Виведіть зображення та випишіть  поруч відповідь нейромережі.\n",
        "# Зробіть висновок про те, чи помиляється твоя нейронна мережа, і якщо так, то як часто?\n",
        "\n",
        "def plot_images(images, predictions, true_labels):\n",
        "    plt.figure(figsize=(10, 10))\n",
        "    for i in range(5):\n",
        "        plt.subplot(1, 5, i+1)\n",
        "        plt.imshow(images[i].reshape(28, 28), cmap='gray')\n",
        "        plt.title(f\"Pred value: {predictions[i]}\\nTrue value: {true_labels[i]}\")\n",
        "        plt.axis('off')\n",
        "    plt.show()\n",
        "\n",
        "def test_random_images(neural_net, x_test, y_test, num_images=5):\n",
        "    random_indices = np.random.choice(len(x_test), num_images, replace=False)\n",
        "    random_images = x_test[random_indices]\n",
        "    random_labels = y_test[random_indices]\n",
        "\n",
        "    predictions = np.argmax(neural_net(random_images), axis=1)\n",
        "    plot_images(random_images, predictions, random_labels)\n",
        "\n",
        "    errors = np.sum(predictions != random_labels)\n",
        "    print(f\"Errors: {errors} out of {num_images} images.\")\n",
        "    accuracy = (num_images - errors) / num_images\n",
        "    print(f\"Accuracy score on the selected images: {accuracy * 100:.2f}%\")\n",
        "\n",
        "# Тестуємо на випадкових зображеннях\n",
        "test_random_images(neural_net, x_test, y_test)\n"
      ]
    }
  ],
  "metadata": {
    "colab": {
      "provenance": [],
      "include_colab_link": true
    },
    "kernelspec": {
      "display_name": "Python 3 (ipykernel)",
      "language": "python",
      "name": "python3"
    },
    "language_info": {
      "codemirror_mode": {
        "name": "ipython",
        "version": 3
      },
      "file_extension": ".py",
      "mimetype": "text/x-python",
      "name": "python",
      "nbconvert_exporter": "python",
      "pygments_lexer": "ipython3",
      "version": "3.9.2"
    }
  },
  "nbformat": 4,
  "nbformat_minor": 0
}