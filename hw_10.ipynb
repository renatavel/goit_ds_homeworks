{
 "cells": [
  {
   "cell_type": "code",
   "execution_count": 3,
   "metadata": {},
   "outputs": [
    {
     "name": "stdout",
     "output_type": "stream",
     "text": [
      "Dataset ml-100k could not be found. Do you want to download it? [Y/n] Trying to download dataset from https://files.grouplens.org/datasets/movielens/ml-100k.zip...\n",
      "Done! Dataset ml-100k has been saved to C:\\Users\\renat/.surprise_data/ml-100k\n"
     ]
    }
   ],
   "source": [
    "from surprise import Dataset\n",
    "data = Dataset.load_builtin('ml-100k')"
   ]
  },
  {
   "cell_type": "code",
   "execution_count": null,
   "metadata": {},
   "outputs": [],
   "source": [
    "from surprise import SVD\n",
    "from surprise.model_selection import GridSearchCV\n",
    "\n",
    "parameters = {\n",
    "    'n_factors': [50, 100, 150],\n",
    "    'n_epochs': [10, 20],\n",
    "    'lr_all': [0.002, 0.005, 0.01],\n",
    "    'reg_all': [0.02, 0.1, 0.2]\n",
    "}\n",
    "gs = GridSearchCV(SVD, parameters, measures=['rmse', 'mae'], cv=5)\n",
    "gs.fit(data)"
   ]
  },
  {
   "cell_type": "code",
   "execution_count": 7,
   "metadata": {},
   "outputs": [
    {
     "name": "stdout",
     "output_type": "stream",
     "text": [
      "Best parameters for SVD: {'n_factors': 150, 'n_epochs': 20, 'lr_all': 0.01, 'reg_all': 0.1}\n",
      "With the best score of RMSE of 0.9183\n"
     ]
    }
   ],
   "source": [
    "print(f\"Best parameters for SVD: {gs.best_params['rmse']}\")\n",
    "print(f\"With the best score of RMSE of {gs.best_score['rmse'].round(4)}\")"
   ]
  },
  {
   "cell_type": "code",
   "execution_count": 16,
   "metadata": {},
   "outputs": [
    {
     "name": "stdout",
     "output_type": "stream",
     "text": [
      "SVD results:\n",
      "Average RMSE: 0.9378\n",
      "Average MAE: 0.7385\n",
      "\n",
      "NMF results:\n",
      "Average RMSE: 0.9644\n",
      "Average MAE: 0.7593\n",
      "\n",
      "SVD++ results:\n",
      "Average RMSE: 0.9201\n",
      "Average MAE: 0.7222\n",
      "\n",
      "Best model out of the estimation results: SVD++\n"
     ]
    }
   ],
   "source": [
    "from surprise import SVDpp, NMF\n",
    "from surprise.model_selection import cross_validate\n",
    "\n",
    "models = {\n",
    "    (\"SVD\", SVD()),\n",
    "    (\"SVD++\", SVDpp()),\n",
    "    (\"NMF\", NMF())\n",
    "}\n",
    "\n",
    "results = {}\n",
    "for name, model in models:\n",
    "    result = cross_validate(model, data, measures=['RMSE', 'MAE'], cv=5, verbose=False)\n",
    "    results[name] = result\n",
    "    print(f\"{name} results:\")\n",
    "    print(f\"Average RMSE: {result['test_rmse'].mean().round(4)}\")\n",
    "    print(f\"Average MAE: {result['test_mae'].mean().round(4)}\\n\")    \n",
    "\n",
    "print(f\"Best model out of the estimation results: {min(results, key=lambda x: results[x]['test_rmse'].mean())}\")    \n"
   ]
  }
 ],
 "metadata": {
  "kernelspec": {
   "display_name": "Python 3",
   "language": "python",
   "name": "python3"
  },
  "language_info": {
   "codemirror_mode": {
    "name": "ipython",
    "version": 3
   },
   "file_extension": ".py",
   "mimetype": "text/x-python",
   "name": "python",
   "nbconvert_exporter": "python",
   "pygments_lexer": "ipython3",
   "version": "3.8.0"
  }
 },
 "nbformat": 4,
 "nbformat_minor": 2
}
