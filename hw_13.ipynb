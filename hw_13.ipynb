{
 "cells": [
  {
   "cell_type": "code",
   "execution_count": 2,
   "metadata": {},
   "outputs": [],
   "source": [
    "import tensorflow as tf\n",
    "from tensorflow import keras \n",
    "import numpy as np\n",
    "import matplotlib.pyplot as plt "
   ]
  },
  {
   "cell_type": "code",
   "execution_count": 3,
   "metadata": {},
   "outputs": [],
   "source": [
    "from keras.datasets import fashion_mnist \n",
    "(X_train, y_train), (X_test, y_test) = fashion_mnist.load_data()"
   ]
  },
  {
   "cell_type": "code",
   "execution_count": 4,
   "metadata": {},
   "outputs": [],
   "source": [
    "X_train = X_train.astype(\"float32\") / 255.0\n",
    "X_test = X_test.astype(\"float32\") / 255.0"
   ]
  },
  {
   "cell_type": "code",
   "execution_count": 5,
   "metadata": {},
   "outputs": [],
   "source": [
    "y_train = keras.utils.to_categorical(y_train, 10)\n",
    "y_test = keras.utils.to_categorical(y_test, 10)"
   ]
  },
  {
   "cell_type": "code",
   "execution_count": 6,
   "metadata": {},
   "outputs": [],
   "source": [
    "X_train = np.expand_dims(X_train, axis=-1)\n",
    "X_test = np.expand_dims(X_test, axis=-1)"
   ]
  },
  {
   "cell_type": "code",
   "execution_count": 24,
   "metadata": {},
   "outputs": [],
   "source": [
    "from keras import layers \n",
    "\n",
    "model = keras.Sequential([\n",
    "    layers.Conv2D(32, (3,3), activation='relu', input_shape = (28,28,1)),\n",
    "    layers.MaxPooling2D((2, 2)), \n",
    "    layers.Conv2D(64, (3, 3), activation='relu'),    \n",
    "    layers.Conv2D(128, (3, 3), activation='relu'),  \n",
    "    layers.Flatten(),  \n",
    "    layers.Dropout(0.5),  # Регуляризація\n",
    "    layers.Dense(128, activation='relu'),  \n",
    "    layers.Dense(10, activation='softmax') \n",
    "])"
   ]
  },
  {
   "cell_type": "code",
   "execution_count": 25,
   "metadata": {},
   "outputs": [],
   "source": [
    "model.compile(optimizer='adam', loss='categorical_crossentropy', metrics=['accuracy'])"
   ]
  },
  {
   "cell_type": "code",
   "execution_count": 26,
   "metadata": {},
   "outputs": [
    {
     "name": "stdout",
     "output_type": "stream",
     "text": [
      "Epoch 1/30\n",
      "750/750 [==============================] - 44s 58ms/step - loss: 0.4550 - accuracy: 0.8363 - val_loss: 0.3549 - val_accuracy: 0.8711\n",
      "Epoch 2/30\n",
      "750/750 [==============================] - 45s 59ms/step - loss: 0.2944 - accuracy: 0.8935 - val_loss: 0.2880 - val_accuracy: 0.8954\n",
      "Epoch 3/30\n",
      "750/750 [==============================] - 44s 59ms/step - loss: 0.2531 - accuracy: 0.9066 - val_loss: 0.2496 - val_accuracy: 0.9131\n",
      "Epoch 4/30\n",
      "750/750 [==============================] - 47s 62ms/step - loss: 0.2226 - accuracy: 0.9169 - val_loss: 0.2325 - val_accuracy: 0.9153\n",
      "Epoch 5/30\n",
      "750/750 [==============================] - 48s 64ms/step - loss: 0.1976 - accuracy: 0.9262 - val_loss: 0.2281 - val_accuracy: 0.9165\n",
      "Epoch 6/30\n",
      "750/750 [==============================] - 48s 64ms/step - loss: 0.1783 - accuracy: 0.9322 - val_loss: 0.2197 - val_accuracy: 0.9194\n",
      "Epoch 7/30\n",
      "750/750 [==============================] - 52s 69ms/step - loss: 0.1636 - accuracy: 0.9376 - val_loss: 0.2251 - val_accuracy: 0.9218\n",
      "Epoch 8/30\n",
      "750/750 [==============================] - 53s 71ms/step - loss: 0.1442 - accuracy: 0.9453 - val_loss: 0.2287 - val_accuracy: 0.9235\n",
      "Epoch 9/30\n",
      "750/750 [==============================] - 56s 74ms/step - loss: 0.1274 - accuracy: 0.9526 - val_loss: 0.2344 - val_accuracy: 0.9230\n",
      "Epoch 10/30\n",
      "750/750 [==============================] - 55s 73ms/step - loss: 0.1162 - accuracy: 0.9560 - val_loss: 0.2488 - val_accuracy: 0.9230\n",
      "Epoch 11/30\n",
      "750/750 [==============================] - 54s 72ms/step - loss: 0.1073 - accuracy: 0.9604 - val_loss: 0.2473 - val_accuracy: 0.9212\n",
      "Epoch 12/30\n",
      "750/750 [==============================] - 53s 70ms/step - loss: 0.0980 - accuracy: 0.9633 - val_loss: 0.2553 - val_accuracy: 0.9222\n",
      "Epoch 13/30\n",
      "750/750 [==============================] - 52s 70ms/step - loss: 0.0882 - accuracy: 0.9662 - val_loss: 0.2759 - val_accuracy: 0.9210\n",
      "Epoch 14/30\n",
      "750/750 [==============================] - 53s 71ms/step - loss: 0.0782 - accuracy: 0.9710 - val_loss: 0.2676 - val_accuracy: 0.9217\n",
      "Epoch 15/30\n",
      "750/750 [==============================] - 53s 70ms/step - loss: 0.0728 - accuracy: 0.9724 - val_loss: 0.3029 - val_accuracy: 0.9195\n",
      "Epoch 16/30\n",
      "750/750 [==============================] - 53s 70ms/step - loss: 0.0701 - accuracy: 0.9736 - val_loss: 0.2814 - val_accuracy: 0.9250\n",
      "Epoch 17/30\n",
      "750/750 [==============================] - 54s 72ms/step - loss: 0.0630 - accuracy: 0.9761 - val_loss: 0.2810 - val_accuracy: 0.9249\n",
      "Epoch 18/30\n",
      "750/750 [==============================] - 55s 73ms/step - loss: 0.0585 - accuracy: 0.9789 - val_loss: 0.3217 - val_accuracy: 0.9168\n",
      "Epoch 19/30\n",
      "750/750 [==============================] - 53s 70ms/step - loss: 0.0541 - accuracy: 0.9794 - val_loss: 0.3350 - val_accuracy: 0.9233\n",
      "Epoch 20/30\n",
      "750/750 [==============================] - 52s 70ms/step - loss: 0.0536 - accuracy: 0.9800 - val_loss: 0.3194 - val_accuracy: 0.9243\n",
      "Epoch 21/30\n",
      "750/750 [==============================] - 53s 70ms/step - loss: 0.0509 - accuracy: 0.9816 - val_loss: 0.3114 - val_accuracy: 0.9256\n",
      "Epoch 22/30\n",
      "750/750 [==============================] - 52s 70ms/step - loss: 0.0472 - accuracy: 0.9824 - val_loss: 0.3282 - val_accuracy: 0.9258\n",
      "Epoch 23/30\n",
      "750/750 [==============================] - 53s 70ms/step - loss: 0.0435 - accuracy: 0.9841 - val_loss: 0.3418 - val_accuracy: 0.9249\n",
      "Epoch 24/30\n",
      "750/750 [==============================] - 54s 72ms/step - loss: 0.0457 - accuracy: 0.9829 - val_loss: 0.3498 - val_accuracy: 0.9262\n",
      "Epoch 25/30\n",
      "750/750 [==============================] - 54s 72ms/step - loss: 0.0421 - accuracy: 0.9845 - val_loss: 0.3628 - val_accuracy: 0.9247\n",
      "Epoch 26/30\n",
      "750/750 [==============================] - 53s 71ms/step - loss: 0.0408 - accuracy: 0.9857 - val_loss: 0.3469 - val_accuracy: 0.9277\n",
      "Epoch 27/30\n",
      "750/750 [==============================] - 52s 70ms/step - loss: 0.0413 - accuracy: 0.9858 - val_loss: 0.3521 - val_accuracy: 0.9237\n",
      "Epoch 28/30\n",
      "750/750 [==============================] - 53s 70ms/step - loss: 0.0365 - accuracy: 0.9872 - val_loss: 0.3936 - val_accuracy: 0.9233\n",
      "Epoch 29/30\n",
      "750/750 [==============================] - 52s 70ms/step - loss: 0.0369 - accuracy: 0.9869 - val_loss: 0.3983 - val_accuracy: 0.9233\n",
      "Epoch 30/30\n",
      "750/750 [==============================] - 53s 71ms/step - loss: 0.0361 - accuracy: 0.9870 - val_loss: 0.3748 - val_accuracy: 0.9263\n"
     ]
    }
   ],
   "source": [
    "history = model.fit(X_train, y_train, epochs=30, batch_size=64, validation_split=0.2, verbose=1)"
   ]
  },
  {
   "cell_type": "code",
   "execution_count": 27,
   "metadata": {},
   "outputs": [
    {
     "name": "stdout",
     "output_type": "stream",
     "text": [
      "313/313 [==============================] - 3s 9ms/step - loss: 0.3965 - accuracy: 0.9224\n",
      "Test loss: 0.39654067158699036\n",
      "Test accuracy: 0.9223999977111816\n"
     ]
    }
   ],
   "source": [
    "test_loss, test_accuracy = model.evaluate(X_test, y_test)\n",
    "print(f\"Test loss: {test_loss}\")\n",
    "print(f\"Test accuracy: {test_accuracy}\")"
   ]
  }
 ],
 "metadata": {
  "kernelspec": {
   "display_name": "Python 3",
   "language": "python",
   "name": "python3"
  },
  "language_info": {
   "codemirror_mode": {
    "name": "ipython",
    "version": 3
   },
   "file_extension": ".py",
   "mimetype": "text/x-python",
   "name": "python",
   "nbconvert_exporter": "python",
   "pygments_lexer": "ipython3",
   "version": "3.8.0"
  }
 },
 "nbformat": 4,
 "nbformat_minor": 2
}
