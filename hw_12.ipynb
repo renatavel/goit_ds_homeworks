{
  "nbformat": 4,
  "nbformat_minor": 0,
  "metadata": {
    "colab": {
      "provenance": [],
      "gpuType": "T4",
      "authorship_tag": "ABX9TyPfR2xPxUiWuNnBxdZCLdim",
      "include_colab_link": true
    },
    "kernelspec": {
      "name": "python3",
      "display_name": "Python 3"
    },
    "language_info": {
      "name": "python"
    },
    "accelerator": "GPU"
  },
  "cells": [
    {
      "cell_type": "markdown",
      "metadata": {
        "id": "view-in-github",
        "colab_type": "text"
      },
      "source": [
        "<a href=\"https://colab.research.google.com/github/renatavel/goit_ds_homeworks/blob/main/hw_12.ipynb\" target=\"_parent\"><img src=\"https://colab.research.google.com/assets/colab-badge.svg\" alt=\"Open In Colab\"/></a>"
      ]
    },
    {
      "cell_type": "code",
      "execution_count": 2,
      "metadata": {
        "id": "DTUerdpq4HXh"
      },
      "outputs": [],
      "source": [
        "import tensorflow as tf\n",
        "from tensorflow import keras\n",
        "import numpy as np\n",
        "import matplotlib.pyplot as plt"
      ]
    },
    {
      "cell_type": "code",
      "source": [
        "from keras.datasets import fashion_mnist\n",
        "(X_train, y_train), (X_test, y_test) = fashion_mnist.load_data()"
      ],
      "metadata": {
        "id": "yOc_RRXS4PIX",
        "colab": {
          "base_uri": "https://localhost:8080/"
        },
        "outputId": "b03cccf5-da3f-4b58-8aa8-c86af5b811fe"
      },
      "execution_count": 3,
      "outputs": [
        {
          "output_type": "stream",
          "name": "stdout",
          "text": [
            "Downloading data from https://storage.googleapis.com/tensorflow/tf-keras-datasets/train-labels-idx1-ubyte.gz\n",
            "\u001b[1m29515/29515\u001b[0m \u001b[32m━━━━━━━━━━━━━━━━━━━━\u001b[0m\u001b[37m\u001b[0m \u001b[1m0s\u001b[0m 0us/step\n",
            "Downloading data from https://storage.googleapis.com/tensorflow/tf-keras-datasets/train-images-idx3-ubyte.gz\n",
            "\u001b[1m26421880/26421880\u001b[0m \u001b[32m━━━━━━━━━━━━━━━━━━━━\u001b[0m\u001b[37m\u001b[0m \u001b[1m0s\u001b[0m 0us/step\n",
            "Downloading data from https://storage.googleapis.com/tensorflow/tf-keras-datasets/t10k-labels-idx1-ubyte.gz\n",
            "\u001b[1m5148/5148\u001b[0m \u001b[32m━━━━━━━━━━━━━━━━━━━━\u001b[0m\u001b[37m\u001b[0m \u001b[1m0s\u001b[0m 0us/step\n",
            "Downloading data from https://storage.googleapis.com/tensorflow/tf-keras-datasets/t10k-images-idx3-ubyte.gz\n",
            "\u001b[1m4422102/4422102\u001b[0m \u001b[32m━━━━━━━━━━━━━━━━━━━━\u001b[0m\u001b[37m\u001b[0m \u001b[1m0s\u001b[0m 0us/step\n"
          ]
        }
      ]
    },
    {
      "cell_type": "code",
      "source": [
        "from sklearn.model_selection import train_test_split\n",
        "X_train, X_val, y_train, y_val = train_test_split(X_train, y_train, test_size=0.2, random_state=42)"
      ],
      "metadata": {
        "id": "cKqcC-254RnG"
      },
      "execution_count": 4,
      "outputs": []
    },
    {
      "cell_type": "code",
      "source": [
        "X_train = X_train.astype('float32') / 255.0\n",
        "X_val = X_val.astype('float32') / 255.0\n",
        "X_test = X_test.astype('float32') / 255.0"
      ],
      "metadata": {
        "id": "U9AbE_aJ4VqI"
      },
      "execution_count": 5,
      "outputs": []
    },
    {
      "cell_type": "code",
      "source": [
        "X_train = X_train.reshape(-1, 28, 28)\n",
        "X_val = X_val.reshape(-1, 28, 28)\n",
        "X_test = X_test.reshape(-1, 28, 28)"
      ],
      "metadata": {
        "id": "7UvEkpk84Wzu"
      },
      "execution_count": 6,
      "outputs": []
    },
    {
      "cell_type": "code",
      "source": [
        "y_train_hot = keras.utils.to_categorical(y_train, 10)\n",
        "y_val_hot = keras.utils.to_categorical(y_val, 10)\n",
        "y_test_hot = keras.utils.to_categorical(y_test, 10)"
      ],
      "metadata": {
        "id": "gNmtqQmL4ZG9"
      },
      "execution_count": 7,
      "outputs": []
    },
    {
      "cell_type": "code",
      "source": [
        "from keras.models import Sequential\n",
        "from keras.layers import Dense, Flatten, Dropout, LeakyReLU, Input, BatchNormalization\n",
        "from keras.regularizers import l2\n",
        "\n",
        "model = Sequential()\n",
        "model.add(Input(shape=(28, 28)))\n",
        "model.add(Flatten())\n",
        "\n",
        "model.add(Dense(512, kernel_regularizer=l2(0.0001)))\n",
        "model.add(LeakyReLU(negative_slope=0.1))\n",
        "\n",
        "model.add(Dense(256, kernel_regularizer=l2(0.0001)))\n",
        "model.add(LeakyReLU(negative_slope=0.1))\n",
        "\n",
        "model.add(Dropout(0.5))\n",
        "model.add(Dense(10, activation='softmax'))"
      ],
      "metadata": {
        "id": "_y2oNJWv4bOa"
      },
      "execution_count": 8,
      "outputs": []
    },
    {
      "cell_type": "code",
      "source": [
        "model.compile(optimizer=keras.optimizers.Adam(learning_rate=0.0005) , loss='categorical_crossentropy', metrics=['accuracy'])"
      ],
      "metadata": {
        "id": "aOxWHw6T4dYc"
      },
      "execution_count": 9,
      "outputs": []
    },
    {
      "cell_type": "code",
      "source": [
        "history = model.fit(X_train, y_train_hot, epochs=40, batch_size=64, validation_data=(X_val, y_val_hot), verbose=1)"
      ],
      "metadata": {
        "colab": {
          "base_uri": "https://localhost:8080/"
        },
        "id": "MbrTt4lf4fm1",
        "outputId": "794c659f-2286-4fa3-92bb-201410bb4cc6"
      },
      "execution_count": 10,
      "outputs": [
        {
          "output_type": "stream",
          "name": "stdout",
          "text": [
            "Epoch 1/40\n",
            "\u001b[1m750/750\u001b[0m \u001b[32m━━━━━━━━━━━━━━━━━━━━\u001b[0m\u001b[37m\u001b[0m \u001b[1m6s\u001b[0m 4ms/step - accuracy: 0.7285 - loss: 0.8683 - val_accuracy: 0.8533 - val_loss: 0.5040\n",
            "Epoch 2/40\n",
            "\u001b[1m750/750\u001b[0m \u001b[32m━━━━━━━━━━━━━━━━━━━━\u001b[0m\u001b[37m\u001b[0m \u001b[1m3s\u001b[0m 4ms/step - accuracy: 0.8526 - loss: 0.5010 - val_accuracy: 0.8628 - val_loss: 0.4619\n",
            "Epoch 3/40\n",
            "\u001b[1m750/750\u001b[0m \u001b[32m━━━━━━━━━━━━━━━━━━━━\u001b[0m\u001b[37m\u001b[0m \u001b[1m2s\u001b[0m 3ms/step - accuracy: 0.8669 - loss: 0.4567 - val_accuracy: 0.8774 - val_loss: 0.4323\n",
            "Epoch 4/40\n",
            "\u001b[1m750/750\u001b[0m \u001b[32m━━━━━━━━━━━━━━━━━━━━\u001b[0m\u001b[37m\u001b[0m \u001b[1m4s\u001b[0m 5ms/step - accuracy: 0.8745 - loss: 0.4244 - val_accuracy: 0.8772 - val_loss: 0.4229\n",
            "Epoch 5/40\n",
            "\u001b[1m750/750\u001b[0m \u001b[32m━━━━━━━━━━━━━━━━━━━━\u001b[0m\u001b[37m\u001b[0m \u001b[1m5s\u001b[0m 5ms/step - accuracy: 0.8805 - loss: 0.4031 - val_accuracy: 0.8716 - val_loss: 0.4239\n",
            "Epoch 6/40\n",
            "\u001b[1m750/750\u001b[0m \u001b[32m━━━━━━━━━━━━━━━━━━━━\u001b[0m\u001b[37m\u001b[0m \u001b[1m3s\u001b[0m 4ms/step - accuracy: 0.8837 - loss: 0.3909 - val_accuracy: 0.8830 - val_loss: 0.4002\n",
            "Epoch 7/40\n",
            "\u001b[1m750/750\u001b[0m \u001b[32m━━━━━━━━━━━━━━━━━━━━\u001b[0m\u001b[37m\u001b[0m \u001b[1m5s\u001b[0m 5ms/step - accuracy: 0.8906 - loss: 0.3712 - val_accuracy: 0.8774 - val_loss: 0.4085\n",
            "Epoch 8/40\n",
            "\u001b[1m750/750\u001b[0m \u001b[32m━━━━━━━━━━━━━━━━━━━━\u001b[0m\u001b[37m\u001b[0m \u001b[1m5s\u001b[0m 5ms/step - accuracy: 0.8946 - loss: 0.3578 - val_accuracy: 0.8782 - val_loss: 0.4002\n",
            "Epoch 9/40\n",
            "\u001b[1m750/750\u001b[0m \u001b[32m━━━━━━━━━━━━━━━━━━━━\u001b[0m\u001b[37m\u001b[0m \u001b[1m2s\u001b[0m 3ms/step - accuracy: 0.8957 - loss: 0.3531 - val_accuracy: 0.8735 - val_loss: 0.4102\n",
            "Epoch 10/40\n",
            "\u001b[1m750/750\u001b[0m \u001b[32m━━━━━━━━━━━━━━━━━━━━\u001b[0m\u001b[37m\u001b[0m \u001b[1m2s\u001b[0m 3ms/step - accuracy: 0.8985 - loss: 0.3423 - val_accuracy: 0.8856 - val_loss: 0.3830\n",
            "Epoch 11/40\n",
            "\u001b[1m750/750\u001b[0m \u001b[32m━━━━━━━━━━━━━━━━━━━━\u001b[0m\u001b[37m\u001b[0m \u001b[1m2s\u001b[0m 3ms/step - accuracy: 0.8995 - loss: 0.3332 - val_accuracy: 0.8833 - val_loss: 0.3961\n",
            "Epoch 12/40\n",
            "\u001b[1m750/750\u001b[0m \u001b[32m━━━━━━━━━━━━━━━━━━━━\u001b[0m\u001b[37m\u001b[0m \u001b[1m2s\u001b[0m 3ms/step - accuracy: 0.9017 - loss: 0.3270 - val_accuracy: 0.8931 - val_loss: 0.3683\n",
            "Epoch 13/40\n",
            "\u001b[1m750/750\u001b[0m \u001b[32m━━━━━━━━━━━━━━━━━━━━\u001b[0m\u001b[37m\u001b[0m \u001b[1m3s\u001b[0m 4ms/step - accuracy: 0.9052 - loss: 0.3170 - val_accuracy: 0.8927 - val_loss: 0.3665\n",
            "Epoch 14/40\n",
            "\u001b[1m750/750\u001b[0m \u001b[32m━━━━━━━━━━━━━━━━━━━━\u001b[0m\u001b[37m\u001b[0m \u001b[1m2s\u001b[0m 3ms/step - accuracy: 0.9077 - loss: 0.3140 - val_accuracy: 0.8867 - val_loss: 0.3761\n",
            "Epoch 15/40\n",
            "\u001b[1m750/750\u001b[0m \u001b[32m━━━━━━━━━━━━━━━━━━━━\u001b[0m\u001b[37m\u001b[0m \u001b[1m2s\u001b[0m 3ms/step - accuracy: 0.9084 - loss: 0.3091 - val_accuracy: 0.8906 - val_loss: 0.3716\n",
            "Epoch 16/40\n",
            "\u001b[1m750/750\u001b[0m \u001b[32m━━━━━━━━━━━━━━━━━━━━\u001b[0m\u001b[37m\u001b[0m \u001b[1m2s\u001b[0m 3ms/step - accuracy: 0.9104 - loss: 0.3065 - val_accuracy: 0.8922 - val_loss: 0.3638\n",
            "Epoch 17/40\n",
            "\u001b[1m750/750\u001b[0m \u001b[32m━━━━━━━━━━━━━━━━━━━━\u001b[0m\u001b[37m\u001b[0m \u001b[1m2s\u001b[0m 3ms/step - accuracy: 0.9132 - loss: 0.2983 - val_accuracy: 0.8860 - val_loss: 0.3785\n",
            "Epoch 18/40\n",
            "\u001b[1m750/750\u001b[0m \u001b[32m━━━━━━━━━━━━━━━━━━━━\u001b[0m\u001b[37m\u001b[0m \u001b[1m3s\u001b[0m 4ms/step - accuracy: 0.9117 - loss: 0.2970 - val_accuracy: 0.8922 - val_loss: 0.3617\n",
            "Epoch 19/40\n",
            "\u001b[1m750/750\u001b[0m \u001b[32m━━━━━━━━━━━━━━━━━━━━\u001b[0m\u001b[37m\u001b[0m \u001b[1m2s\u001b[0m 3ms/step - accuracy: 0.9165 - loss: 0.2819 - val_accuracy: 0.8877 - val_loss: 0.3826\n",
            "Epoch 20/40\n",
            "\u001b[1m750/750\u001b[0m \u001b[32m━━━━━━━━━━━━━━━━━━━━\u001b[0m\u001b[37m\u001b[0m \u001b[1m2s\u001b[0m 3ms/step - accuracy: 0.9173 - loss: 0.2817 - val_accuracy: 0.8902 - val_loss: 0.3756\n",
            "Epoch 21/40\n",
            "\u001b[1m750/750\u001b[0m \u001b[32m━━━━━━━━━━━━━━━━━━━━\u001b[0m\u001b[37m\u001b[0m \u001b[1m2s\u001b[0m 3ms/step - accuracy: 0.9189 - loss: 0.2807 - val_accuracy: 0.8848 - val_loss: 0.3855\n",
            "Epoch 22/40\n",
            "\u001b[1m750/750\u001b[0m \u001b[32m━━━━━━━━━━━━━━━━━━━━\u001b[0m\u001b[37m\u001b[0m \u001b[1m2s\u001b[0m 3ms/step - accuracy: 0.9177 - loss: 0.2804 - val_accuracy: 0.8876 - val_loss: 0.3924\n",
            "Epoch 23/40\n",
            "\u001b[1m750/750\u001b[0m \u001b[32m━━━━━━━━━━━━━━━━━━━━\u001b[0m\u001b[37m\u001b[0m \u001b[1m3s\u001b[0m 4ms/step - accuracy: 0.9192 - loss: 0.2751 - val_accuracy: 0.8899 - val_loss: 0.3714\n",
            "Epoch 24/40\n",
            "\u001b[1m750/750\u001b[0m \u001b[32m━━━━━━━━━━━━━━━━━━━━\u001b[0m\u001b[37m\u001b[0m \u001b[1m4s\u001b[0m 3ms/step - accuracy: 0.9223 - loss: 0.2659 - val_accuracy: 0.8865 - val_loss: 0.3876\n",
            "Epoch 25/40\n",
            "\u001b[1m750/750\u001b[0m \u001b[32m━━━━━━━━━━━━━━━━━━━━\u001b[0m\u001b[37m\u001b[0m \u001b[1m2s\u001b[0m 3ms/step - accuracy: 0.9233 - loss: 0.2689 - val_accuracy: 0.8897 - val_loss: 0.3827\n",
            "Epoch 26/40\n",
            "\u001b[1m750/750\u001b[0m \u001b[32m━━━━━━━━━━━━━━━━━━━━\u001b[0m\u001b[37m\u001b[0m \u001b[1m3s\u001b[0m 3ms/step - accuracy: 0.9239 - loss: 0.2640 - val_accuracy: 0.8915 - val_loss: 0.3795\n",
            "Epoch 27/40\n",
            "\u001b[1m750/750\u001b[0m \u001b[32m━━━━━━━━━━━━━━━━━━━━\u001b[0m\u001b[37m\u001b[0m \u001b[1m3s\u001b[0m 4ms/step - accuracy: 0.9267 - loss: 0.2556 - val_accuracy: 0.8863 - val_loss: 0.3888\n",
            "Epoch 28/40\n",
            "\u001b[1m750/750\u001b[0m \u001b[32m━━━━━━━━━━━━━━━━━━━━\u001b[0m\u001b[37m\u001b[0m \u001b[1m2s\u001b[0m 3ms/step - accuracy: 0.9265 - loss: 0.2567 - val_accuracy: 0.8932 - val_loss: 0.3809\n",
            "Epoch 29/40\n",
            "\u001b[1m750/750\u001b[0m \u001b[32m━━━━━━━━━━━━━━━━━━━━\u001b[0m\u001b[37m\u001b[0m \u001b[1m2s\u001b[0m 3ms/step - accuracy: 0.9295 - loss: 0.2533 - val_accuracy: 0.8924 - val_loss: 0.3737\n",
            "Epoch 30/40\n",
            "\u001b[1m750/750\u001b[0m \u001b[32m━━━━━━━━━━━━━━━━━━━━\u001b[0m\u001b[37m\u001b[0m \u001b[1m2s\u001b[0m 3ms/step - accuracy: 0.9297 - loss: 0.2541 - val_accuracy: 0.8953 - val_loss: 0.3720\n",
            "Epoch 31/40\n",
            "\u001b[1m750/750\u001b[0m \u001b[32m━━━━━━━━━━━━━━━━━━━━\u001b[0m\u001b[37m\u001b[0m \u001b[1m2s\u001b[0m 3ms/step - accuracy: 0.9304 - loss: 0.2472 - val_accuracy: 0.8914 - val_loss: 0.4011\n",
            "Epoch 32/40\n",
            "\u001b[1m750/750\u001b[0m \u001b[32m━━━━━━━━━━━━━━━━━━━━\u001b[0m\u001b[37m\u001b[0m \u001b[1m3s\u001b[0m 4ms/step - accuracy: 0.9309 - loss: 0.2466 - val_accuracy: 0.8866 - val_loss: 0.3972\n",
            "Epoch 33/40\n",
            "\u001b[1m750/750\u001b[0m \u001b[32m━━━━━━━━━━━━━━━━━━━━\u001b[0m\u001b[37m\u001b[0m \u001b[1m2s\u001b[0m 3ms/step - accuracy: 0.9312 - loss: 0.2470 - val_accuracy: 0.8956 - val_loss: 0.3791\n",
            "Epoch 34/40\n",
            "\u001b[1m750/750\u001b[0m \u001b[32m━━━━━━━━━━━━━━━━━━━━\u001b[0m\u001b[37m\u001b[0m \u001b[1m2s\u001b[0m 3ms/step - accuracy: 0.9300 - loss: 0.2502 - val_accuracy: 0.8928 - val_loss: 0.3718\n",
            "Epoch 35/40\n",
            "\u001b[1m750/750\u001b[0m \u001b[32m━━━━━━━━━━━━━━━━━━━━\u001b[0m\u001b[37m\u001b[0m \u001b[1m2s\u001b[0m 3ms/step - accuracy: 0.9328 - loss: 0.2446 - val_accuracy: 0.8802 - val_loss: 0.4312\n",
            "Epoch 36/40\n",
            "\u001b[1m750/750\u001b[0m \u001b[32m━━━━━━━━━━━━━━━━━━━━\u001b[0m\u001b[37m\u001b[0m \u001b[1m2s\u001b[0m 3ms/step - accuracy: 0.9309 - loss: 0.2450 - val_accuracy: 0.8910 - val_loss: 0.3892\n",
            "Epoch 37/40\n",
            "\u001b[1m750/750\u001b[0m \u001b[32m━━━━━━━━━━━━━━━━━━━━\u001b[0m\u001b[37m\u001b[0m \u001b[1m3s\u001b[0m 4ms/step - accuracy: 0.9336 - loss: 0.2397 - val_accuracy: 0.8932 - val_loss: 0.3833\n",
            "Epoch 38/40\n",
            "\u001b[1m750/750\u001b[0m \u001b[32m━━━━━━━━━━━━━━━━━━━━\u001b[0m\u001b[37m\u001b[0m \u001b[1m4s\u001b[0m 3ms/step - accuracy: 0.9358 - loss: 0.2368 - val_accuracy: 0.8915 - val_loss: 0.3840\n",
            "Epoch 39/40\n",
            "\u001b[1m750/750\u001b[0m \u001b[32m━━━━━━━━━━━━━━━━━━━━\u001b[0m\u001b[37m\u001b[0m \u001b[1m3s\u001b[0m 3ms/step - accuracy: 0.9338 - loss: 0.2414 - val_accuracy: 0.8950 - val_loss: 0.3861\n",
            "Epoch 40/40\n",
            "\u001b[1m750/750\u001b[0m \u001b[32m━━━━━━━━━━━━━━━━━━━━\u001b[0m\u001b[37m\u001b[0m \u001b[1m2s\u001b[0m 3ms/step - accuracy: 0.9381 - loss: 0.2297 - val_accuracy: 0.8879 - val_loss: 0.3967\n"
          ]
        }
      ]
    },
    {
      "cell_type": "code",
      "source": [
        "test_loss, test_accuracy = model.evaluate(X_test, y_test_hot)\n",
        "print(f\"Test loss: {test_loss}\")\n",
        "print(f\"Test accuracy: {test_accuracy}\")"
      ],
      "metadata": {
        "id": "M6sL59CH4nvu",
        "colab": {
          "base_uri": "https://localhost:8080/"
        },
        "outputId": "712b65d9-a6b6-4be2-e7b8-9b85b2f37045"
      },
      "execution_count": 11,
      "outputs": [
        {
          "output_type": "stream",
          "name": "stdout",
          "text": [
            "\u001b[1m313/313\u001b[0m \u001b[32m━━━━━━━━━━━━━━━━━━━━\u001b[0m\u001b[37m\u001b[0m \u001b[1m2s\u001b[0m 5ms/step - accuracy: 0.8818 - loss: 0.4216\n",
            "Test loss: 0.4190298914909363\n",
            "Test accuracy: 0.8827999830245972\n"
          ]
        }
      ]
    },
    {
      "cell_type": "code",
      "source": [
        "def build_model(hp):\n",
        "    model = Sequential()\n",
        "    model.add(Input(shape=(28, 28)))\n",
        "    model.add(Flatten())\n",
        "\n",
        "    model.add(Dense(\n",
        "        units=hp.Int(\"units_layer1\", min_value=256, max_value=512, step=128),\n",
        "        kernel_regularizer=l2(hp.Choice(\"l2_reg_layer1\", [0.0001, 0.001, 0.01]))\n",
        "    ))\n",
        "    model.add(LeakyReLU(negative_slope=0.1))\n",
        "\n",
        "    model.add(Dense(\n",
        "        units=hp.Int(\"units_layer2\", min_value=128, max_value=256, step=64),\n",
        "        kernel_regularizer=l2(hp.Choice(\"l2_reg_layer2\", [0.0001, 0.001, 0.01]))\n",
        "    ))\n",
        "    model.add(LeakyReLU(negative_slope=0.1))\n",
        "\n",
        "    model.add(Dropout(hp.Float(\"dropout_rate\", min_value=0.2, max_value=0.5, step=0.05)))\n",
        "\n",
        "    model.add(Dense(10, activation=\"softmax\"))\n",
        "    model.compile(\n",
        "        optimizer=keras.optimizers.Adam(\n",
        "            learning_rate=hp.Choice(\"learning_rate\", [0.001, 0.0005, 0.0001])\n",
        "        ),\n",
        "        loss=\"sparse_categorical_crossentropy\",\n",
        "        metrics=[\"accuracy\"]\n",
        "    )\n",
        "\n",
        "    return model"
      ],
      "metadata": {
        "id": "xWohU1gnJLwH"
      },
      "execution_count": 13,
      "outputs": []
    },
    {
      "cell_type": "code",
      "source": [
        "import keras_tuner as kt\n",
        "tuner = kt.Hyperband(\n",
        "    build_model,\n",
        "    objective=\"val_accuracy\",\n",
        "    max_epochs=40,\n",
        "    factor=3,\n",
        "    directory=\"tuner_dir\",\n",
        "    project_name=\"keras_tuning\"\n",
        ")\n",
        "tuner.search(X_train, y_train, epochs=10, validation_data=(X_test, y_test), verbose=1)\n",
        "best_parameters = tuner.get_best_hyperparameters(num_trials=1)[0]\n",
        "print(best_parameters)\n"
      ],
      "metadata": {
        "colab": {
          "base_uri": "https://localhost:8080/"
        },
        "id": "nrHRA_Bq77Yk",
        "outputId": "412f2dab-5cf4-40dc-f94a-ea7ee9167975"
      },
      "execution_count": 14,
      "outputs": [
        {
          "output_type": "stream",
          "name": "stdout",
          "text": [
            "Trial 90 Complete [00h 03m 08s]\n",
            "val_accuracy: 0.8912000060081482\n",
            "\n",
            "Best val_accuracy So Far: 0.8912000060081482\n",
            "Total elapsed time: 01h 07m 31s\n",
            "<keras_tuner.src.engine.hyperparameters.hyperparameters.HyperParameters object at 0x7f31925ddd10>\n"
          ]
        }
      ]
    }
  ]
}