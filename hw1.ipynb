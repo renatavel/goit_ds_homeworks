{
 "cells": [
  {
   "cell_type": "code",
   "execution_count": 1,
   "metadata": {},
   "outputs": [],
   "source": [
    "import numpy as np "
   ]
  },
  {
   "cell_type": "code",
   "execution_count": 3,
   "metadata": {},
   "outputs": [
    {
     "name": "stdout",
     "output_type": "stream",
     "text": [
      "[ 1  2  3  4  5  6  7  8  9 10]\n"
     ]
    }
   ],
   "source": [
    "# Task 1 \n",
    "a = np.arange(1,11)\n",
    "print(a)"
   ]
  },
  {
   "cell_type": "code",
   "execution_count": 4,
   "metadata": {},
   "outputs": [
    {
     "name": "stdout",
     "output_type": "stream",
     "text": [
      "[[0 0 0]\n",
      " [0 0 0]\n",
      " [0 0 0]]\n"
     ]
    }
   ],
   "source": [
    "m = np.zeros((3,3), dtype=int)\n",
    "print(m)"
   ]
  },
  {
   "cell_type": "code",
   "execution_count": 5,
   "metadata": {},
   "outputs": [
    {
     "name": "stdout",
     "output_type": "stream",
     "text": [
      "[[ 8  2  1  5 10]\n",
      " [ 4 10  9  7 10]\n",
      " [ 1 10  1  3  5]\n",
      " [ 4  8  3  5  4]\n",
      " [ 6  1  3  8 10]]\n"
     ]
    }
   ],
   "source": [
    "m = np.random.randint(1, 11,(5,5))\n",
    "print(m)"
   ]
  },
  {
   "cell_type": "code",
   "execution_count": 6,
   "metadata": {},
   "outputs": [
    {
     "name": "stdout",
     "output_type": "stream",
     "text": [
      "[[0.12726661 0.17503046 0.03861119 0.72375266]\n",
      " [0.86504903 0.83437229 0.61299369 0.06801569]\n",
      " [0.10281106 0.95567564 0.32681945 0.468759  ]\n",
      " [0.2450635  0.95213277 0.30234681 0.68650013]]\n"
     ]
    }
   ],
   "source": [
    "m = np.random.random((4,4))\n",
    "print(m)"
   ]
  },
  {
   "cell_type": "code",
   "execution_count": 8,
   "metadata": {},
   "outputs": [
    {
     "name": "stdout",
     "output_type": "stream",
     "text": [
      "[[ 1  1  5  8  9]\n",
      " [ 1  1  9  4  5]\n",
      " [ 8  3  3  1  8]\n",
      " [10  2  1  3  4]\n",
      " [10  6  2  7  2]]\n",
      "[[11 11 15 18 19]\n",
      " [11 11 19 14 15]\n",
      " [18 13 13 11 18]\n",
      " [20 12 11 13 14]\n",
      " [20 16 12 17 12]]\n",
      "[[-4 -4  0  3  4]\n",
      " [-4 -4  4 -1  0]\n",
      " [ 3 -2 -2 -4  3]\n",
      " [ 5 -3 -4 -2 -1]\n",
      " [ 5  1 -3  2 -3]]\n",
      "[[ 15  15  75 120 135]\n",
      " [ 15  15 135  60  75]\n",
      " [120  45  45  15 120]\n",
      " [150  30  15  45  60]\n",
      " [150  90  30 105  30]]\n"
     ]
    }
   ],
   "source": [
    "m = np.random.randint(1, 11,(5,5))\n",
    "a = m + 10\n",
    "b = m - 5\n",
    "c = m * 15\n",
    "print(m)\n",
    "print(a)\n",
    "print(b)\n",
    "print(c)"
   ]
  },
  {
   "cell_type": "code",
   "execution_count": 10,
   "metadata": {},
   "outputs": [
    {
     "name": "stdout",
     "output_type": "stream",
     "text": [
      "155\n"
     ]
    }
   ],
   "source": [
    "a = np.arange(7)\n",
    "b = np.random.randint(1, 15, 7)\n",
    "print(np.dot(a,b))"
   ]
  },
  {
   "cell_type": "code",
   "execution_count": 12,
   "metadata": {},
   "outputs": [
    {
     "name": "stdout",
     "output_type": "stream",
     "text": [
      "[[104 104 144]\n",
      " [ 44  50  96]]\n"
     ]
    }
   ],
   "source": [
    "m1 = np.random.randint(1, 11, (2,2))\n",
    "m2 = np.random.randint(1, 11, (2,3))\n",
    "print(np.dot(m1, m2))"
   ]
  },
  {
   "cell_type": "code",
   "execution_count": 13,
   "metadata": {},
   "outputs": [
    {
     "name": "stdout",
     "output_type": "stream",
     "text": [
      "[[ 0.11764706 -0.14705882  0.17647059]\n",
      " [-0.05882353 -0.17647059  0.41176471]\n",
      " [-0.11764706  1.64705882 -2.17647059]]\n"
     ]
    }
   ],
   "source": [
    "m1 = np.random.randint(1, 11, (3,3))\n",
    "m1_inv = np.linalg.inv(m1)\n",
    "print(m1_inv)"
   ]
  },
  {
   "cell_type": "code",
   "execution_count": 14,
   "metadata": {},
   "outputs": [
    {
     "name": "stdout",
     "output_type": "stream",
     "text": [
      "[[0.01956842 0.2916953  0.88953545 0.64940133]\n",
      " [0.31624613 0.48341383 0.95434404 0.56039948]\n",
      " [0.25717059 0.72444809 0.61263416 0.89343257]\n",
      " [0.2500434  0.44143991 0.32585773 0.68376811]]\n"
     ]
    }
   ],
   "source": [
    "m = np.random.random((4,4))\n",
    "b = m.T\n",
    "print(b)"
   ]
  },
  {
   "cell_type": "code",
   "execution_count": 15,
   "metadata": {},
   "outputs": [
    {
     "name": "stdout",
     "output_type": "stream",
     "text": [
      "[[24 60  8  8]\n",
      " [24  6  8 32]\n",
      " [30 60 28 16]]\n"
     ]
    }
   ],
   "source": [
    "m1 = np.random.randint(1, 11, (3,4))\n",
    "a = np.random.randint(1, 11, 4)\n",
    "b = m1 * a\n",
    "print(b)"
   ]
  },
  {
   "cell_type": "code",
   "execution_count": 16,
   "metadata": {},
   "outputs": [
    {
     "name": "stdout",
     "output_type": "stream",
     "text": [
      "[[0.04259088 0.27736445 0.12552484]\n",
      " [0.33079754 0.18008226 0.04406041]]\n"
     ]
    }
   ],
   "source": [
    "m = np.random.random((2,3))\n",
    "a = np.random.random(3)\n",
    "b = m * a\n",
    "print(b)"
   ]
  },
  {
   "cell_type": "code",
   "execution_count": 19,
   "metadata": {},
   "outputs": [
    {
     "name": "stdout",
     "output_type": "stream",
     "text": [
      "[[24 60]\n",
      " [56 25]]\n"
     ]
    }
   ],
   "source": [
    "m1 = np.random.randint(1, 11, (2,2))\n",
    "m2 = np.random.randint(1, 11, (2,2))\n",
    "print(m1 * m2)"
   ]
  },
  {
   "cell_type": "code",
   "execution_count": 20,
   "metadata": {},
   "outputs": [
    {
     "name": "stdout",
     "output_type": "stream",
     "text": [
      "1167\n"
     ]
    }
   ],
   "source": [
    "m1 = np.random.randint(1, 101, (5,5))\n",
    "print(m1.sum())"
   ]
  },
  {
   "cell_type": "code",
   "execution_count": 25,
   "metadata": {},
   "outputs": [
    {
     "name": "stdout",
     "output_type": "stream",
     "text": [
      "[[-9  2  3 -1]\n",
      " [-1 -3 -1  8]\n",
      " [-5  2  5 -1]\n",
      " [-1  2  2 -2]]\n"
     ]
    }
   ],
   "source": [
    "m1 = np.random.randint(1, 11, (4,4))\n",
    "m2 = np.random.randint(1, 11, (4,4))\n",
    "b = m1 - m2\n",
    "print(b)"
   ]
  },
  {
   "cell_type": "code",
   "execution_count": 33,
   "metadata": {},
   "outputs": [
    {
     "name": "stdout",
     "output_type": "stream",
     "text": [
      "[[0.86387001 0.31372486 0.47520162]\n",
      " [0.58761981 0.63873508 0.61216193]\n",
      " [0.50307471 0.42129885 0.08049075]]\n",
      "[1.65279649 1.83851682 1.00486431]\n"
     ]
    }
   ],
   "source": [
    "m = np.random.random((3,3))\n",
    "print(m)\n",
    "print(m.sum(axis=1))"
   ]
  },
  {
   "cell_type": "code",
   "execution_count": 37,
   "metadata": {},
   "outputs": [
    {
     "name": "stdout",
     "output_type": "stream",
     "text": [
      "[[6 3 3 2]\n",
      " [4 3 5 6]\n",
      " [4 6 2 6]]\n",
      "[[36  9  9  4]\n",
      " [16  9 25 36]\n",
      " [16 36  4 36]]\n"
     ]
    }
   ],
   "source": [
    "m1 = np.random.randint(1,7,(3,4))\n",
    "print(m1)\n",
    "print(np.square(m1))"
   ]
  },
  {
   "cell_type": "code",
   "execution_count": 39,
   "metadata": {},
   "outputs": [
    {
     "name": "stdout",
     "output_type": "stream",
     "text": [
      "[10 16 47  8]\n",
      "[3.16227766 4.         6.8556546  2.82842712]\n"
     ]
    }
   ],
   "source": [
    "a = np.random.randint(1, 51, 4)\n",
    "b = np.sqrt(a)\n",
    "print(a)\n",
    "print(b)"
   ]
  }
 ],
 "metadata": {
  "kernelspec": {
   "display_name": "Python 3",
   "language": "python",
   "name": "python3"
  },
  "language_info": {
   "codemirror_mode": {
    "name": "ipython",
    "version": 3
   },
   "file_extension": ".py",
   "mimetype": "text/x-python",
   "name": "python",
   "nbconvert_exporter": "python",
   "pygments_lexer": "ipython3",
   "version": "3.12.8"
  }
 },
 "nbformat": 4,
 "nbformat_minor": 2
}
