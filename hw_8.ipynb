{
 "cells": [
  {
   "cell_type": "code",
   "execution_count": 43,
   "metadata": {},
   "outputs": [],
   "source": [
    "import os \n",
    "\n",
    "import numpy as np \n",
    "import matplotlib.pyplot as plt \n",
    "import pandas as pd"
   ]
  },
  {
   "cell_type": "code",
   "execution_count": 44,
   "metadata": {},
   "outputs": [],
   "source": [
    "PATH = r'C:\\Projects\\Project 2\\module8_data_science\\data'\n",
    "activities = ['walking', 'running', 'stairs', 'idle']\n",
    "df_list=[]\n",
    "for activity in activities:\n",
    "    folder_path = os.path.join(PATH, activity)\n",
    "    for file in os.listdir(folder_path):\n",
    "        file_path = os.path.join(folder_path, file)\n",
    "        temp_df = pd.read_csv(file_path)\n",
    "        temp_df['activity'] = activity\n",
    "        df_list.append(temp_df)\n",
    "\n",
    "df = pd.concat(df_list, ignore_index=True)"
   ]
  },
  {
   "cell_type": "code",
   "execution_count": 45,
   "metadata": {},
   "outputs": [
    {
     "data": {
      "text/html": [
       "<div>\n",
       "<style scoped>\n",
       "    .dataframe tbody tr th:only-of-type {\n",
       "        vertical-align: middle;\n",
       "    }\n",
       "\n",
       "    .dataframe tbody tr th {\n",
       "        vertical-align: top;\n",
       "    }\n",
       "\n",
       "    .dataframe thead th {\n",
       "        text-align: right;\n",
       "    }\n",
       "</style>\n",
       "<table border=\"1\" class=\"dataframe\">\n",
       "  <thead>\n",
       "    <tr style=\"text-align: right;\">\n",
       "      <th></th>\n",
       "      <th>accelerometer_X</th>\n",
       "      <th>accelerometer_Y</th>\n",
       "      <th>accelerometer_Z</th>\n",
       "      <th>activity</th>\n",
       "    </tr>\n",
       "  </thead>\n",
       "  <tbody>\n",
       "    <tr>\n",
       "      <th>0</th>\n",
       "      <td>2.322376</td>\n",
       "      <td>3.643975</td>\n",
       "      <td>11.827356</td>\n",
       "      <td>walking</td>\n",
       "    </tr>\n",
       "    <tr>\n",
       "      <th>1</th>\n",
       "      <td>1.781286</td>\n",
       "      <td>4.668694</td>\n",
       "      <td>6.148310</td>\n",
       "      <td>walking</td>\n",
       "    </tr>\n",
       "    <tr>\n",
       "      <th>2</th>\n",
       "      <td>7.963115</td>\n",
       "      <td>-4.113238</td>\n",
       "      <td>1.359907</td>\n",
       "      <td>walking</td>\n",
       "    </tr>\n",
       "    <tr>\n",
       "      <th>3</th>\n",
       "      <td>1.996764</td>\n",
       "      <td>-1.398214</td>\n",
       "      <td>1.163582</td>\n",
       "      <td>walking</td>\n",
       "    </tr>\n",
       "    <tr>\n",
       "      <th>4</th>\n",
       "      <td>5.185841</td>\n",
       "      <td>-12.143391</td>\n",
       "      <td>4.687847</td>\n",
       "      <td>walking</td>\n",
       "    </tr>\n",
       "  </tbody>\n",
       "</table>\n",
       "</div>"
      ],
      "text/plain": [
       "   accelerometer_X  accelerometer_Y  accelerometer_Z activity\n",
       "0         2.322376         3.643975        11.827356  walking\n",
       "1         1.781286         4.668694         6.148310  walking\n",
       "2         7.963115        -4.113238         1.359907  walking\n",
       "3         1.996764        -1.398214         1.163582  walking\n",
       "4         5.185841       -12.143391         4.687847  walking"
      ]
     },
     "execution_count": 45,
     "metadata": {},
     "output_type": "execute_result"
    }
   ],
   "source": [
    "df.head()"
   ]
  },
  {
   "cell_type": "code",
   "execution_count": 46,
   "metadata": {},
   "outputs": [],
   "source": [
    "df['mean_X'] = df['accelerometer_X'].rolling(window=50).mean()\n",
    "df['std_X'] = df['accelerometer_X'].rolling(window=50).std()\n",
    "df['min_X'] = df['accelerometer_X'].rolling(window=50).min()\n",
    "df['max_X'] = df['accelerometer_X'].rolling(window=50).max()\n",
    "df['meadian_X'] = df['accelerometer_X'].rolling(window=50).median()\n",
    "df['var_X'] = df['accelerometer_X'].rolling(window=50).var()"
   ]
  },
  {
   "cell_type": "code",
   "execution_count": 47,
   "metadata": {},
   "outputs": [],
   "source": [
    "df.dropna(inplace=True)"
   ]
  },
  {
   "cell_type": "code",
   "execution_count": 48,
   "metadata": {},
   "outputs": [
    {
     "data": {
      "text/plain": [
       "accelerometer_X    0\n",
       "accelerometer_Y    0\n",
       "accelerometer_Z    0\n",
       "activity           0\n",
       "mean_X             0\n",
       "std_X              0\n",
       "min_X              0\n",
       "max_X              0\n",
       "meadian_X          0\n",
       "var_X              0\n",
       "dtype: int64"
      ]
     },
     "execution_count": 48,
     "metadata": {},
     "output_type": "execute_result"
    }
   ],
   "source": [
    "df.isna().sum()"
   ]
  },
  {
   "cell_type": "code",
   "execution_count": 49,
   "metadata": {},
   "outputs": [
    {
     "data": {
      "text/html": [
       "<div>\n",
       "<style scoped>\n",
       "    .dataframe tbody tr th:only-of-type {\n",
       "        vertical-align: middle;\n",
       "    }\n",
       "\n",
       "    .dataframe tbody tr th {\n",
       "        vertical-align: top;\n",
       "    }\n",
       "\n",
       "    .dataframe thead th {\n",
       "        text-align: right;\n",
       "    }\n",
       "</style>\n",
       "<table border=\"1\" class=\"dataframe\">\n",
       "  <thead>\n",
       "    <tr style=\"text-align: right;\">\n",
       "      <th></th>\n",
       "      <th>accelerometer_X</th>\n",
       "      <th>accelerometer_Y</th>\n",
       "      <th>accelerometer_Z</th>\n",
       "      <th>activity</th>\n",
       "      <th>mean_X</th>\n",
       "      <th>std_X</th>\n",
       "      <th>min_X</th>\n",
       "      <th>max_X</th>\n",
       "      <th>meadian_X</th>\n",
       "      <th>var_X</th>\n",
       "    </tr>\n",
       "  </thead>\n",
       "  <tbody>\n",
       "    <tr>\n",
       "      <th>49</th>\n",
       "      <td>-1.556231</td>\n",
       "      <td>-3.122039</td>\n",
       "      <td>1.958457</td>\n",
       "      <td>walking</td>\n",
       "      <td>3.271725</td>\n",
       "      <td>3.874081</td>\n",
       "      <td>-2.964022</td>\n",
       "      <td>12.363658</td>\n",
       "      <td>3.256115</td>\n",
       "      <td>15.008502</td>\n",
       "    </tr>\n",
       "    <tr>\n",
       "      <th>50</th>\n",
       "      <td>-4.721366</td>\n",
       "      <td>-8.781932</td>\n",
       "      <td>0.311246</td>\n",
       "      <td>walking</td>\n",
       "      <td>3.130850</td>\n",
       "      <td>4.034071</td>\n",
       "      <td>-4.721366</td>\n",
       "      <td>12.363658</td>\n",
       "      <td>3.256115</td>\n",
       "      <td>16.273725</td>\n",
       "    </tr>\n",
       "    <tr>\n",
       "      <th>51</th>\n",
       "      <td>-5.837064</td>\n",
       "      <td>-17.606958</td>\n",
       "      <td>-0.028730</td>\n",
       "      <td>walking</td>\n",
       "      <td>2.978483</td>\n",
       "      <td>4.225418</td>\n",
       "      <td>-5.837064</td>\n",
       "      <td>12.363658</td>\n",
       "      <td>3.256115</td>\n",
       "      <td>17.854161</td>\n",
       "    </tr>\n",
       "    <tr>\n",
       "      <th>52</th>\n",
       "      <td>-2.542642</td>\n",
       "      <td>3.423709</td>\n",
       "      <td>21.648373</td>\n",
       "      <td>walking</td>\n",
       "      <td>2.768368</td>\n",
       "      <td>4.233691</td>\n",
       "      <td>-5.837064</td>\n",
       "      <td>12.363658</td>\n",
       "      <td>2.537854</td>\n",
       "      <td>17.924138</td>\n",
       "    </tr>\n",
       "    <tr>\n",
       "      <th>53</th>\n",
       "      <td>4.276045</td>\n",
       "      <td>-13.618219</td>\n",
       "      <td>0.172383</td>\n",
       "      <td>walking</td>\n",
       "      <td>2.813953</td>\n",
       "      <td>4.237482</td>\n",
       "      <td>-5.837064</td>\n",
       "      <td>12.363658</td>\n",
       "      <td>3.256115</td>\n",
       "      <td>17.956256</td>\n",
       "    </tr>\n",
       "  </tbody>\n",
       "</table>\n",
       "</div>"
      ],
      "text/plain": [
       "    accelerometer_X  accelerometer_Y  accelerometer_Z activity    mean_X  \\\n",
       "49        -1.556231        -3.122039         1.958457  walking  3.271725   \n",
       "50        -4.721366        -8.781932         0.311246  walking  3.130850   \n",
       "51        -5.837064       -17.606958        -0.028730  walking  2.978483   \n",
       "52        -2.542642         3.423709        21.648373  walking  2.768368   \n",
       "53         4.276045       -13.618219         0.172383  walking  2.813953   \n",
       "\n",
       "       std_X     min_X      max_X  meadian_X      var_X  \n",
       "49  3.874081 -2.964022  12.363658   3.256115  15.008502  \n",
       "50  4.034071 -4.721366  12.363658   3.256115  16.273725  \n",
       "51  4.225418 -5.837064  12.363658   3.256115  17.854161  \n",
       "52  4.233691 -5.837064  12.363658   2.537854  17.924138  \n",
       "53  4.237482 -5.837064  12.363658   3.256115  17.956256  "
      ]
     },
     "execution_count": 49,
     "metadata": {},
     "output_type": "execute_result"
    }
   ],
   "source": [
    "df.head()"
   ]
  },
  {
   "cell_type": "code",
   "execution_count": 50,
   "metadata": {},
   "outputs": [],
   "source": [
    "from sklearn.preprocessing import LabelEncoder\n",
    "df['activity'] = LabelEncoder().fit_transform(df['activity'])"
   ]
  },
  {
   "cell_type": "code",
   "execution_count": 51,
   "metadata": {},
   "outputs": [],
   "source": [
    "from sklearn.preprocessing import StandardScaler\n",
    "\n",
    "scaler = StandardScaler()\n",
    "df_scaled = pd.DataFrame(scaler.fit_transform(df), columns=df.columns)"
   ]
  },
  {
   "cell_type": "code",
   "execution_count": 52,
   "metadata": {},
   "outputs": [],
   "source": [
    "from sklearn.model_selection import train_test_split\n",
    "\n",
    "X = df_scaled.drop(columns=['activity'])\n",
    "y = df['activity']\n",
    "\n",
    "X_train, X_test, y_train, y_test = train_test_split(X, y, test_size=0.4, random_state=42)\n",
    "X_valid, X_test, y_valid, y_test = train_test_split(X, y, test_size=0.5, random_state=42)"
   ]
  },
  {
   "cell_type": "code",
   "execution_count": 53,
   "metadata": {},
   "outputs": [],
   "source": [
    "from sklearn.svm import SVC\n",
    "from sklearn.metrics import classification_report\n",
    "\n",
    "svm_model = SVC(kernel='linear')\n",
    "svm_model.fit(X_train, y_train)\n",
    "y_pred_svm = svm_model.predict(X_test)"
   ]
  },
  {
   "cell_type": "code",
   "execution_count": 54,
   "metadata": {},
   "outputs": [
    {
     "name": "stdout",
     "output_type": "stream",
     "text": [
      "              precision    recall  f1-score   support\n",
      "\n",
      "           0       1.00      1.00      1.00     15462\n",
      "           1       0.99      0.99      0.99     51172\n",
      "           2       0.75      0.45      0.56      2470\n",
      "           3       0.94      0.98      0.96     27801\n",
      "\n",
      "    accuracy                           0.97     96905\n",
      "   macro avg       0.92      0.85      0.88     96905\n",
      "weighted avg       0.97      0.97      0.97     96905\n",
      "\n"
     ]
    }
   ],
   "source": [
    "y_pred_svm_valid = svm_model.predict(X_valid)\n",
    "print(classification_report(y_valid, y_pred_svm_valid))"
   ]
  },
  {
   "cell_type": "code",
   "execution_count": 55,
   "metadata": {},
   "outputs": [
    {
     "name": "stdout",
     "output_type": "stream",
     "text": [
      "              precision    recall  f1-score   support\n",
      "\n",
      "           0       1.00      1.00      1.00     15708\n",
      "           1       0.99      0.99      0.99     51068\n",
      "           2       0.74      0.47      0.57      2480\n",
      "           3       0.94      0.97      0.96     27650\n",
      "\n",
      "    accuracy                           0.97     96906\n",
      "   macro avg       0.92      0.86      0.88     96906\n",
      "weighted avg       0.97      0.97      0.97     96906\n",
      "\n"
     ]
    }
   ],
   "source": [
    "print(classification_report(y_test, y_pred_svm))"
   ]
  },
  {
   "cell_type": "code",
   "execution_count": 56,
   "metadata": {},
   "outputs": [],
   "source": [
    "from sklearn.ensemble import RandomForestClassifier\n",
    "\n",
    "rfc_model = RandomForestClassifier(n_estimators=100)\n",
    "rfc_model.fit(X_train, y_train)\n",
    "y_pred_rfc = rfc_model.predict(X_test)"
   ]
  },
  {
   "cell_type": "code",
   "execution_count": 57,
   "metadata": {},
   "outputs": [
    {
     "name": "stdout",
     "output_type": "stream",
     "text": [
      "              precision    recall  f1-score   support\n",
      "\n",
      "           0       1.00      1.00      1.00     15462\n",
      "           1       1.00      1.00      1.00     51172\n",
      "           2       1.00      1.00      1.00      2470\n",
      "           3       1.00      1.00      1.00     27801\n",
      "\n",
      "    accuracy                           1.00     96905\n",
      "   macro avg       1.00      1.00      1.00     96905\n",
      "weighted avg       1.00      1.00      1.00     96905\n",
      "\n"
     ]
    }
   ],
   "source": [
    "y_pred_rfc_valid = rfc_model.predict(X_valid)\n",
    "print(classification_report(y_valid, y_pred_rfc_valid))"
   ]
  },
  {
   "cell_type": "code",
   "execution_count": 58,
   "metadata": {},
   "outputs": [
    {
     "name": "stdout",
     "output_type": "stream",
     "text": [
      "              precision    recall  f1-score   support\n",
      "\n",
      "           0       1.00      1.00      1.00     15708\n",
      "           1       1.00      1.00      1.00     51068\n",
      "           2       1.00      0.99      1.00      2480\n",
      "           3       1.00      1.00      1.00     27650\n",
      "\n",
      "    accuracy                           1.00     96906\n",
      "   macro avg       1.00      1.00      1.00     96906\n",
      "weighted avg       1.00      1.00      1.00     96906\n",
      "\n"
     ]
    }
   ],
   "source": [
    "print(classification_report(y_test, y_pred_rfc))"
   ]
  }
 ],
 "metadata": {
  "kernelspec": {
   "display_name": "Python 3",
   "language": "python",
   "name": "python3"
  },
  "language_info": {
   "codemirror_mode": {
    "name": "ipython",
    "version": 3
   },
   "file_extension": ".py",
   "mimetype": "text/x-python",
   "name": "python",
   "nbconvert_exporter": "python",
   "pygments_lexer": "ipython3",
   "version": "3.12.8"
  }
 },
 "nbformat": 4,
 "nbformat_minor": 2
}
